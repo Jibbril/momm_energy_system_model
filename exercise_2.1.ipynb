{
 "metadata": {
  "language_info": {
   "codemirror_mode": {
    "name": "ipython",
    "version": 3
   },
   "file_extension": ".py",
   "mimetype": "text/x-python",
   "name": "python",
   "nbconvert_exporter": "python",
   "pygments_lexer": "ipython3",
   "version": "3.8.8"
  },
  "orig_nbformat": 2,
  "kernelspec": {
   "name": "python388jvsc74a57bd0634fb6b6e8aee2a8af9b77aa6665e0187af9fc16f3b72fb139e7e66cb38d65e6",
   "display_name": "Python 3.8.8 64-bit ('momm': conda)"
  }
 },
 "nbformat": 4,
 "nbformat_minor": 2,
 "cells": [
  {
   "source": [
    "# Exercise 2.1\n",
    "I den här uppgiften lägger vi till CO2-kravet och försöker lösa modellen. Det går inte då det inte finns några möjliga lösningar då vi producerar tillräckligt med el men klarar koldioxidkravet. "
   ],
   "cell_type": "markdown",
   "metadata": {}
  },
  {
   "cell_type": "code",
   "execution_count": 1,
   "metadata": {},
   "outputs": [],
   "source": [
    "from pyomo.environ import *\n",
    "from pyomo.opt import SolverFactory\n",
    "import pandas as pd\n",
    "import numpy as np\n",
    "import matplotlib.pyplot as plt\n",
    "import pprint"
   ]
  },
  {
   "source": [
    "## Data"
   ],
   "cell_type": "markdown",
   "metadata": {}
  },
  {
   "cell_type": "code",
   "execution_count": 2,
   "metadata": {},
   "outputs": [
    {
     "output_type": "stream",
     "name": "stdout",
     "text": [
      "Total demand DK: 43606 GW\nTotal demand DE: 637617 GW\nTotal demand SE: 177332 GW\n"
     ]
    }
   ],
   "source": [
    "# CONTROL VARIABLES\n",
    "batteryOn = False\n",
    "\n",
    "\n",
    "# DATA\n",
    "countries = ['DE', 'DK', 'SE']\n",
    "techs = ['Wind', 'PV', 'Gas', 'Hydro', 'Battery']\n",
    "efficiency = {'Wind': 1, 'PV': 1, 'Gas': 0.4, 'Hydro': 1, 'Battery': 0.9}\n",
    "discountrate = 0.05\n",
    "hydro_max =33 * 10**6\n",
    "last_hour = 8759\n",
    "CO2_gas_emission_factor = 0.202\n",
    "\n",
    "total_co2 = 138772485 # tons, taken from exercise 1\n",
    "co2_limit = 0.1 * total_co2\n",
    "\n",
    "# READ CSV\n",
    "input_data = pd.read_csv('data/TimeSeries.csv', index_col=[0])\n",
    "cap_max_data = pd.read_csv('data/capMax.csv', index_col=[0])  # MWh\n",
    "cost_data = pd.read_csv('data/costs.csv', index_col=[0])\n",
    "\n",
    "print(f\"Total demand DK: {round(input_data['Load_DK'].sum()/1000)} GW\")\n",
    "print(f\"Total demand DE: {round(input_data['Load_DE'].sum()/1000)} GW\")\n",
    "print(f\"Total demand SE: {round(input_data['Load_SE'].sum()/1000)} GW\")\n"
   ]
  },
  {
   "source": [
    "## Utility functions"
   ],
   "cell_type": "markdown",
   "metadata": {}
  },
  {
   "cell_type": "code",
   "execution_count": 3,
   "metadata": {},
   "outputs": [],
   "source": [
    "def annualize_cost(tech):\n",
    "    lifetime = cost_data.loc[tech][\"lifetime\"]\n",
    "    return discountrate/(1-1/(1+discountrate)**lifetime)\n",
    "\n",
    "def capacity_max(model, n, g):\n",
    "    capMax = {}\n",
    "    if g in cap_max_data.columns:\n",
    "        capMax[n, g] = float(cap_max_data[g].loc[cap_max_data.index == n])\n",
    "        return 0.0, capMax[n, g]\n",
    "    elif g == 'Battery' and not batteryOn:\n",
    "        return 0.0, 0.0\n",
    "    else:\n",
    "        return 0.0, None\n",
    "\n",
    "def demandData():\n",
    "    demand = {}\n",
    "    for n in model.nodes:\n",
    "        for t in model.time:\n",
    "            demand[n, t] = input_data.iloc[t][f\"Load_{n}\"]\n",
    "    return demand\n",
    "\n",
    "def get_load_factor(tech, time, node):\n",
    "    \"\"\"\n",
    "    Checks performance of Wind and solar at the provided\n",
    "    node and time\n",
    "    \"\"\"\n",
    "    if tech != \"Wind\" and tech != \"PV\":\n",
    "        return 1\n",
    "    text = f\"{tech}_{node}\"\n",
    "    value = input_data.iloc[time][text]\n",
    "    if value <= 0.00001:\n",
    "        return 0.00001 \n",
    "    return value\n",
    "\n",
    "def solve_model(model):\n",
    "    opt = SolverFactory(\"gurobi_direct\")\n",
    "    opt.options[\"threads\"] = 4\n",
    "    print(\"========================= SOLVING MODEL =========================\")\n",
    "    return opt.solve(model, tee=True)\n",
    "\n",
    "def calculate_capacities(model):\n",
    "    capTot = {}\n",
    "    for n in model.nodes:\n",
    "        for g in model.gens:\n",
    "            capTot[n, g] = round(model.capa[n, g].value/1e3) #GW\n",
    "    return capTot\n",
    "\n",
    "def calculate_co2_total(prodTot):\n",
    "    return CO2_gas_emission_factor * (prodTot[\"DE\",\"Gas\"] + prodTot[\"DK\",\"Gas\"] + prodTot[\"SE\",\"Gas\"]) * 1000 / (model.efficiency[\"Gas\"]) # MWh"
   ]
  },
  {
   "source": [
    "## Plot functions"
   ],
   "cell_type": "markdown",
   "metadata": {}
  },
  {
   "cell_type": "code",
   "execution_count": 4,
   "metadata": {},
   "outputs": [],
   "source": [
    "\n",
    "\n",
    "def plot_capacities(model,capTot):\n",
    "    pprint.pprint(capTot)\n",
    "\n",
    "    dk_cap = [model.capa[\"DK\",tech].value for tech in model.gens]\n",
    "    de_cap = [model.capa[\"DE\",tech].value for tech in model.gens]\n",
    "    se_cap = [model.capa[\"SE\",tech].value for tech in model.gens]\n",
    "\n",
    "    labels = [tech for tech in model.gens]\n",
    "    x = np.arange(len(labels))  # the label locations\n",
    "    width = 0.15  # the width of the bars\n",
    "\n",
    "    fig, ax = plt.subplots()\n",
    "    rects1 = ax.bar(x - width/2, dk_cap, width, label='DK')\n",
    "    rects2 = ax.bar(x + width/2, de_cap, width, label='DE')\n",
    "    rects3 = ax.bar(x + width*3/2, se_cap, width, label='SE')\n",
    "\n",
    "    # Add some text for labels, title and custom x-axis tick labels, etc.\n",
    "    ax.set_ylabel('Capacities')\n",
    "    ax.set_title('Capacities by type and country')\n",
    "    ax.set_xticks(x)\n",
    "    ax.set_xticklabels(labels)\n",
    "    ax.legend()\n",
    "\n",
    "    fig.tight_layout()\n",
    "\n",
    "    plt.show()\n",
    "\n",
    "def plot_first_week(model):\n",
    "    de_time = range(0,168)\n",
    "    de_wind = np.array([ model.prod[\"DE\", \"Wind\", t].value for t in de_time])\n",
    "    de_pv = np.array([ model.prod[\"DE\", \"PV\", t].value for t in de_time])\n",
    "    de_gas = np.array([ model.prod[\"DE\", \"Gas\", t].value for t in de_time])\n",
    "    de_hydro = np.array([ model.prod[\"DE\", \"Hydro\", t].value for t in de_time])\n",
    "    de_battery = np.array([ model.prod[\"DE\", \"Battery\", t].value for t in de_time])\n",
    "    de_total = de_wind + de_pv + de_gas + de_hydro + de_battery\n",
    "\n",
    "    f, (ax1, ax2) = plt.subplots(1,2)\n",
    "    f.set_figheight(6)\n",
    "    f.set_figwidth(12)\n",
    "\n",
    "    ax1.set_ylim([0,100000])\n",
    "    ax2.set_ylim([0,100000])\n",
    "\n",
    "    ax1.plot(de_time, de_wind)\n",
    "    ax1.plot(de_time, de_pv)\n",
    "    ax1.plot(de_time, de_gas)\n",
    "    ax1.plot(de_time, de_hydro)\n",
    "    ax1.plot(de_time, de_battery)\n",
    "\n",
    "    ax2.plot(de_time, de_total)\n",
    "\n",
    "    plt.grid(axis='x', color='0.95')\n",
    "    ax1.legend([\"Wind\", \"PV\", \"Gas\", \"Hydro\", \"Battery\"], loc=\"lower left\")\n",
    "    ax1.set_title('By production type')\n",
    "    ax2.set_title('Total')\n",
    "\n",
    "    plt.show()"
   ]
  },
  {
   "source": [
    "## Create model and sets"
   ],
   "cell_type": "markdown",
   "metadata": {}
  },
  {
   "cell_type": "code",
   "execution_count": 5,
   "metadata": {},
   "outputs": [],
   "source": [
    "def create_model():\n",
    "    model = ConcreteModel()\n",
    "    model.nodes = Set(initialize=countries, doc='countries')\n",
    "    model.time = Set(initialize=input_data.index, doc='hours')\n",
    "    model.gens = Set(initialize=techs, doc=\"Technologies\")\n",
    "    return model\n",
    "\n",
    "model = create_model()"
   ]
  },
  {
   "source": [
    "## Set parameters"
   ],
   "cell_type": "markdown",
   "metadata": {}
  },
  {
   "cell_type": "code",
   "execution_count": 6,
   "metadata": {},
   "outputs": [],
   "source": [
    "def set_model_parameters(model):\n",
    "    model.demand = Param(model.nodes, model.time, initialize=demandData())\n",
    "    model.efficiency = Param(\n",
    "    model.gens, initialize=efficiency, doc='Conversion efficiency')\n",
    "    return model\n",
    "\n",
    "model = set_model_parameters(model)"
   ]
  },
  {
   "source": [
    "## Create variables"
   ],
   "cell_type": "markdown",
   "metadata": {}
  },
  {
   "cell_type": "code",
   "execution_count": 7,
   "metadata": {},
   "outputs": [],
   "source": [
    "def set_base_model_variables(model):\n",
    "    model.prod = Var(model.nodes, model.gens, model.time,\n",
    "                 domain=NonNegativeReals,\n",
    "                 doc=\"Production\")\n",
    "    model.capa = Var(model.nodes, model.gens,\n",
    "                    bounds=capacity_max, doc='Generator cap')\n",
    "    model.water_level = Var(model.time, bounds=(0, hydro_max), doc=\"Water level of reservoir\")\n",
    "    return model\n",
    "\n",
    "model = set_base_model_variables(model)"
   ]
  },
  {
   "source": [
    "## Constraints"
   ],
   "cell_type": "markdown",
   "metadata": {}
  },
  {
   "cell_type": "code",
   "execution_count": 8,
   "metadata": {},
   "outputs": [],
   "source": [
    "# Total supply at each hour must meet the demand.\n",
    "def demand_rule(model, node, gen, time):\n",
    "    return sum([ model.prod[node, tech, time] for tech in techs]) >= model.demand[node, time]\n",
    "\n",
    "# Production must be smaller than capacity\n",
    "def prod_rule(model, node, gen,time):\n",
    "    return model.prod[node, gen, time] <= model.capa[node,gen] * get_load_factor(gen,time,node)\n",
    "\n",
    "# Producing electricity from hydro must decrease water level\n",
    "def hydro_rule(model,time):\n",
    "    if (time > 0):\n",
    "        return model.water_level[time] == model.water_level[time - 1] - model.prod[\"SE\", \"Hydro\", time] + input_data.iloc[time][\"Hydro_inflow\"]\n",
    "    else:\n",
    "        return model.water_level[time] == model.water_level[last_hour] - model.prod[\"SE\", \"Hydro\", time] + input_data.iloc[time][\"Hydro_inflow\"]"
   ]
  },
  {
   "cell_type": "code",
   "execution_count": 9,
   "metadata": {},
   "outputs": [],
   "source": [
    "def set_base_model_constraints(model):\n",
    "    # Total supply at each hour must meet the demand.\n",
    "    model.demand_constraint = Constraint(model.nodes, model.gens,\n",
    "                                        model.time, rule=demand_rule)\n",
    "\n",
    "    # Production must be smaller than capacity                                     \n",
    "    model.prod_constraint = Constraint(model.nodes, model.gens, model.time, rule=prod_rule)\n",
    "\n",
    "    # Producing electricity from hydro must decrease water level\n",
    "    model.hydro_constraint = Constraint(model.time, rule=hydro_rule)\n",
    "\n",
    "    # co2 must be lower than limit\n",
    "    model.co2_limit_constraint = Constraint(expr=sum(model.prod[node, \"Gas\", t] * CO2_gas_emission_factor for node in model.nodes for t in model.time) <= co2_limit)\n",
    "    return model\n",
    "\n",
    "model = set_base_model_constraints(model)"
   ]
  },
  {
   "source": [
    "## Objective function"
   ],
   "cell_type": "markdown",
   "metadata": {}
  },
  {
   "cell_type": "code",
   "execution_count": 10,
   "metadata": {},
   "outputs": [],
   "source": [
    "def investment_cost(model):\n",
    "    return sum(model.capa[node, tech] * cost_data.loc[tech][\"investment_cost\"]  * annualize_cost(tech) for tech in model.gens for node in model.nodes)\n",
    "\n",
    "def running_cost(model):\n",
    "    return sum(model.prod[node, tech, t] * (cost_data.loc[tech][\"variable_cost\"] + cost_data.loc[tech][\"fuel_cost\"] / (model.efficiency[tech] * get_load_factor(tech,t,node))) for node in model.nodes for tech in model.gens for t in model.time)\n",
    "\n",
    "def objective_rule(model):\n",
    "    return running_cost(model) + investment_cost(model)\n",
    "\n",
    "def set_objective_function(model):\n",
    "    model.objective = Objective(\n",
    "    rule=objective_rule, sense=minimize, doc='Objective function')\n",
    "    return model\n",
    "\n",
    "model = set_objective_function(model)"
   ]
  },
  {
   "source": [
    "## Solve model"
   ],
   "cell_type": "markdown",
   "metadata": {}
  },
  {
   "cell_type": "code",
   "execution_count": 11,
   "metadata": {},
   "outputs": [
    {
     "output_type": "stream",
     "name": "stdout",
     "text": [
      "========================= SOLVING MODEL =========================\n",
      "WARNING: Loading a SolverResults object with a warning status into\n",
      "    model.name=\"unknown\";\n",
      "      - termination condition: infeasible\n",
      "      - message from solver: <undefined>\n",
      "# ==========================================================\n",
      "# = Solver Results                                         =\n",
      "# ==========================================================\n",
      "# ----------------------------------------------------------\n",
      "#   Problem Information\n",
      "# ----------------------------------------------------------\n",
      "Problem: \n",
      "- Name: unknown\n",
      "  Lower bound: None\n",
      "  Upper bound: None\n",
      "  Number of objectives: 1\n",
      "  Number of constraints: 271561\n",
      "  Number of variables: 140175\n",
      "  Number of binary variables: 0\n",
      "  Number of integer variables: 0\n",
      "  Number of continuous variables: 140175\n",
      "  Number of nonzeros: 972360\n",
      "  Sense: 1\n",
      "  Number of solutions: 0\n",
      "# ----------------------------------------------------------\n",
      "#   Solver Information\n",
      "# ----------------------------------------------------------\n",
      "Solver: \n",
      "- Name: Gurobi 9.11\n",
      "  Status: warning\n",
      "  Wallclock time: 0.7390213012695312\n",
      "  Termination condition: infeasible\n",
      "  Termination message: Model was proven to be infeasible\n",
      "# ----------------------------------------------------------\n",
      "#   Solution Information\n",
      "# ----------------------------------------------------------\n",
      "Solution: \n",
      "- number of solutions: 0\n",
      "  number of solutions displayed: 0\n"
     ]
    }
   ],
   "source": [
    "results = solve_model(model)\n",
    "results.write()"
   ]
  }
 ]
}