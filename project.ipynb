{
 "metadata": {
  "language_info": {
   "codemirror_mode": {
    "name": "ipython",
    "version": 3
   },
   "file_extension": ".py",
   "mimetype": "text/x-python",
   "name": "python",
   "nbconvert_exporter": "python",
   "pygments_lexer": "ipython3",
   "version": "3.8.8"
  },
  "orig_nbformat": 2,
  "kernelspec": {
   "name": "python388jvsc74a57bd0634fb6b6e8aee2a8af9b77aa6665e0187af9fc16f3b72fb139e7e66cb38d65e6",
   "display_name": "Python 3.8.8 64-bit ('momm': conda)"
  }
 },
 "nbformat": 4,
 "nbformat_minor": 2,
 "cells": [
  {
   "cell_type": "code",
   "execution_count": 86,
   "metadata": {},
   "outputs": [],
   "source": [
    "from pyomo.environ import *\n",
    "import pandas as pd\n",
    "import matplotlib.pyplot as plt"
   ]
  },
  {
   "cell_type": "code",
   "execution_count": 87,
   "metadata": {},
   "outputs": [
    {
     "output_type": "stream",
     "name": "stdout",
     "text": [
      "========================= START LOADING DATA =========================\n========================= DATA LOADED ===    ======================\nTotal demand DK: 43606.417933\nTotal demand DE: 637617.0658\nTotal demand SE: 177332.34219999998\n"
     ]
    }
   ],
   "source": [
    "# CONTROL VARIABLES\n",
    "batteryOn = False\n",
    "\n",
    "\n",
    "# DATA\n",
    "countries = ['DE', 'DK', 'SE']\n",
    "techs = ['Wind', 'PV', 'Gas', 'Hydro', 'Battery']\n",
    "efficiency = {'Wind': 1, 'PV': 1, 'Gas': 0.4, 'Hydro': 1, 'Battery': 0.9}\n",
    "investment_percentages = {\n",
    "    \"Wind\": 0.17380352644836272,\n",
    "    \"PV\": 0.0018891687657430728,\n",
    "    \"Hydro\": 0.44836272040302266,\n",
    "    \"Gas\": 0.07556675062972291,\n",
    "    \"Battery\": 0\n",
    "}  # Rough approximations from ekonomifakta.se\n",
    "discountrate = 0.05\n",
    "hydro_max =33 * 10**6\n",
    "percent_hydro_at_start = 0.5\n",
    "\n",
    "# READ CSV\n",
    "print(\"========================= START LOADING DATA =========================\")\n",
    "input_data = pd.read_csv('data/TimeSeries.csv', index_col=[0])\n",
    "cap_max_data = pd.read_csv('data/capMax.csv', index_col=[0])  # MWh\n",
    "cost_data = pd.read_csv('data/costs.csv', index_col=[0])\n",
    "print(\"========================= DATA LOADED ===    ======================\")\n",
    "\n",
    "print(f\"Total demand DK: {input_data['Load_DK'].sum()/1000}\")\n",
    "print(f\"Total demand DE: {input_data['Load_DE'].sum()/1000}\")\n",
    "print(f\"Total demand SE: {input_data['Load_SE'].sum()/1000}\")\n"
   ]
  },
  {
   "cell_type": "code",
   "execution_count": 88,
   "metadata": {},
   "outputs": [
    {
     "output_type": "execute_result",
     "data": {
      "text/plain": [
       "0.07556675062972291"
      ]
     },
     "metadata": {},
     "execution_count": 88
    }
   ],
   "source": [
    "tot = 71.2+27.6+47.3+6.1+6.6\n",
    "12/tot"
   ]
  },
  {
   "cell_type": "code",
   "execution_count": 89,
   "metadata": {},
   "outputs": [],
   "source": [
    "# UTILITY FUNCTIONS\n",
    "def annualize_cost(tech):\n",
    "    lifetime = cost_data.loc[tech][\"lifetime\"]\n",
    "    return discountrate/(1-1/(1+discountrate)**lifetime)\n",
    "\n",
    "\n",
    "def investment_cost(model):\n",
    "    # return sum(max([model.prod[node, tech, t] for t in model.time])*cost_data.loc[tech][\"investment_cost\"]\n",
    "    #     * annualize_cost(tech) for tech in model.gens for node in model.nodes)\n",
    "\n",
    "    return sum(input_data[\"Load_\" + node].sum() * investment_percentages[tech] * cost_data.loc[tech][\"investment_cost\"] * annualize_cost(tech) for tech in model.gens for node in model.nodes)\n",
    "\n",
    "\n",
    "\n",
    "\n",
    "def capacity_max(model, n, g):\n",
    "    capMax = {}\n",
    "    if g in cap_max_data.columns:\n",
    "        capMax[n, g] = float(cap_max_data[g].loc[cap_max_data.index == n])\n",
    "        return 0.0, capMax[n, g]\n",
    "    elif g == 'Battery' and not batteryOn:\n",
    "        return 0.0, 0.0\n",
    "    else:\n",
    "        return 0.0, None\n",
    "\n",
    "\n",
    "def demandData():\n",
    "    demand = {}\n",
    "    for n in model.nodes:\n",
    "        for t in model.time:\n",
    "            demand[n, t] = input_data.iloc[t][f\"Load_{n}\"]\n",
    "    return demand\n",
    "\n",
    "def get_load_factor(tech, time, node):\n",
    "    \"\"\"\n",
    "    Checks performance of Wind and solar at the provided\n",
    "    node and time\n",
    "    \"\"\"\n",
    "    if tech != \"Wind\" and tech != \"PV\":\n",
    "        return 1\n",
    "    text = f\"{tech}_{node}\"\n",
    "    return input_data.iloc[time][text]\n"
   ]
  },
  {
   "cell_type": "code",
   "execution_count": 90,
   "metadata": {},
   "outputs": [
    {
     "output_type": "stream",
     "name": "stdout",
     "text": [
      "========================= CREATE MODEL =========================\n========================= CREATE SETS =========================\n"
     ]
    }
   ],
   "source": [
    "print(\"========================= CREATE MODEL =========================\")\n",
    "model = ConcreteModel()\n",
    "\n",
    "print(\"========================= CREATE SETS =========================\")\n",
    "# SETS\n",
    "model.nodes = Set(initialize=countries, doc='countries')\n",
    "model.time = Set(initialize=input_data.index, doc='hours')\n",
    "model.gens = Set(initialize=techs, doc=\"Technologies\")\n",
    "# model.load_swe = Set(initialize=input_data.)\n"
   ]
  },
  {
   "cell_type": "code",
   "execution_count": 91,
   "metadata": {},
   "outputs": [
    {
     "output_type": "stream",
     "name": "stdout",
     "text": [
      "========================= SET PARAMETERS =========================\n"
     ]
    }
   ],
   "source": [
    "print(\"========================= SET PARAMETERS =========================\")\n",
    "# PARAMETERS\n",
    "model.demand = Param(model.nodes, model.time, initialize=demandData())\n",
    "model.efficiency = Param(\n",
    "    model.gens, initialize=efficiency, doc='Conversion efficiency')"
   ]
  },
  {
   "cell_type": "code",
   "execution_count": 92,
   "metadata": {},
   "outputs": [
    {
     "output_type": "stream",
     "name": "stdout",
     "text": [
      "========================= CREATE VARIABLES =========================\n"
     ]
    }
   ],
   "source": [
    "print(\"========================= CREATE VARIABLES =========================\")\n",
    "# VARIABLES\n",
    "model.prod = Var(model.nodes, model.gens, model.time,\n",
    "                 domain=NonNegativeReals,\n",
    "                 doc=\"Production\")\n",
    "model.capa = Var(model.nodes, model.gens,\n",
    "                 bounds=capacity_max, doc='Generator cap')\n",
    "model.water_level = Var(model.time, bounds=(0, hydro_max), doc=\"Water level of reservoir\")"
   ]
  },
  {
   "cell_type": "code",
   "execution_count": 93,
   "metadata": {
    "tags": []
   },
   "outputs": [
    {
     "output_type": "stream",
     "name": "stdout",
     "text": [
      "========================= SET CONSTRAINTS =========================\n"
     ]
    }
   ],
   "source": [
    "print(\"========================= SET CONSTRAINTS =========================\")\n",
    "# CONSTRAINTS\n",
    "# Production is limited by max capacity\n",
    "def production_capacity_rule(model, nodes, gens, time):\n",
    "    return model.prod[nodes, gens, time] <= model.capa[nodes, gens]\n",
    "\n",
    "model.production_constraint = Constraint(model.nodes, model.gens,\n",
    "                                         model.time, rule=production_capacity_rule)\n",
    "\n",
    "\n",
    "# Total supply at each hours must meet the demand.\n",
    "def demand_rule(model, nodes, gens, time):\n",
    "    return sum([model.prod[nodes, tech, time] * get_load_factor(tech,time,nodes) * model.efficiency[tech] for tech in techs]) >= model.demand[nodes, time]\n",
    "\n",
    "model.demand_constraint = Constraint(model.nodes, model.gens,\n",
    "                                     model.time, rule=demand_rule)\n",
    "\n",
    "# Producing electricity from hydro must decrease water level\n",
    "def hydro_rule(model,time):\n",
    "    if (time > 0):\n",
    "        return model.water_level[time] == model.water_level[time - 1] - model.prod[\"SE\", \"Hydro\", time] + input_data.iloc[time][\"Hydro_inflow\"]\n",
    "    else:\n",
    "        return model.water_level[time] == model.water_level[time] \n",
    "\n",
    "model.hydro_constraint = Constraint(model.time, rule=hydro_rule)\n",
    "\n",
    "\n",
    "# Starting water level\n",
    "model.water_start_constraint = Constraint(expr=model.water_level[0] == percent_hydro_at_start*hydro_max)\n",
    "\n",
    "# Ending water_level\n",
    "model.water_end_constraint = Constraint(expr=model.water_level[8759] >= model.water_level[0])\n",
    "\n",
    "\n",
    "\n",
    "\n"
   ]
  },
  {
   "cell_type": "code",
   "execution_count": 85,
   "metadata": {},
   "outputs": [
    {
     "output_type": "stream",
     "name": "stdout",
     "text": [
      "========================= SET OBJECTIVE FUNCTION =========================\n",
      "WARNING: DEPRECATED: Chained inequalities are deprecated. Use the inequality()\n",
      "    function to express ranged inequality expressions. (called from <ipython-\n",
      "    input-80-c938da4b8571>:11)\n",
      "ERROR: evaluating object as numeric value: prod[DE,Wind,0]\n",
      "        (object: <class 'pyomo.core.base.var._GeneralVarData'>)\n",
      "    No value for uninitialized NumericValue object prod[DE,Wind,0]\n",
      "ERROR: Rule failed when generating expression for objective objective:\n",
      "    ValueError: No value for uninitialized NumericValue object prod[DE,Wind,0]\n",
      "ERROR: Constructing component 'objective' from data=None failed: ValueError:\n",
      "    No value for uninitialized NumericValue object prod[DE,Wind,0]\n"
     ]
    },
    {
     "output_type": "error",
     "ename": "ValueError",
     "evalue": "No value for uninitialized NumericValue object prod[DE,Wind,0]",
     "traceback": [
      "\u001b[1;31m---------------------------------------------------------------------------\u001b[0m",
      "\u001b[1;31mValueError\u001b[0m                                Traceback (most recent call last)",
      "\u001b[1;32m<ipython-input-85-5105bad3b317>\u001b[0m in \u001b[0;36m<module>\u001b[1;34m\u001b[0m\n\u001b[0;32m      8\u001b[0m \u001b[1;33m\u001b[0m\u001b[0m\n\u001b[0;32m      9\u001b[0m \u001b[1;33m\u001b[0m\u001b[0m\n\u001b[1;32m---> 10\u001b[1;33m model.objective = Objective(\n\u001b[0m\u001b[0;32m     11\u001b[0m     rule=objective_rule, sense=minimize, doc='Objective function')\n",
      "\u001b[1;32m~\\anaconda3\\envs\\momm\\lib\\site-packages\\pyomo\\core\\base\\block.py\u001b[0m in \u001b[0;36m__setattr__\u001b[1;34m(self, name, val)\u001b[0m\n\u001b[0;32m    542\u001b[0m                 \u001b[1;31m# Pyomo components are added with the add_component method.\u001b[0m\u001b[1;33m\u001b[0m\u001b[1;33m\u001b[0m\u001b[1;33m\u001b[0m\u001b[0m\n\u001b[0;32m    543\u001b[0m                 \u001b[1;31m#\u001b[0m\u001b[1;33m\u001b[0m\u001b[1;33m\u001b[0m\u001b[1;33m\u001b[0m\u001b[0m\n\u001b[1;32m--> 544\u001b[1;33m                 \u001b[0mself\u001b[0m\u001b[1;33m.\u001b[0m\u001b[0madd_component\u001b[0m\u001b[1;33m(\u001b[0m\u001b[0mname\u001b[0m\u001b[1;33m,\u001b[0m \u001b[0mval\u001b[0m\u001b[1;33m)\u001b[0m\u001b[1;33m\u001b[0m\u001b[1;33m\u001b[0m\u001b[0m\n\u001b[0m\u001b[0;32m    545\u001b[0m             \u001b[1;32melse\u001b[0m\u001b[1;33m:\u001b[0m\u001b[1;33m\u001b[0m\u001b[1;33m\u001b[0m\u001b[0m\n\u001b[0;32m    546\u001b[0m                 \u001b[1;31m#\u001b[0m\u001b[1;33m\u001b[0m\u001b[1;33m\u001b[0m\u001b[1;33m\u001b[0m\u001b[0m\n",
      "\u001b[1;32m~\\anaconda3\\envs\\momm\\lib\\site-packages\\pyomo\\core\\base\\block.py\u001b[0m in \u001b[0;36madd_component\u001b[1;34m(self, name, val)\u001b[0m\n\u001b[0;32m   1087\u001b[0m                              _blockName, str(data))\n\u001b[0;32m   1088\u001b[0m             \u001b[1;32mtry\u001b[0m\u001b[1;33m:\u001b[0m\u001b[1;33m\u001b[0m\u001b[1;33m\u001b[0m\u001b[0m\n\u001b[1;32m-> 1089\u001b[1;33m                 \u001b[0mval\u001b[0m\u001b[1;33m.\u001b[0m\u001b[0mconstruct\u001b[0m\u001b[1;33m(\u001b[0m\u001b[0mdata\u001b[0m\u001b[1;33m)\u001b[0m\u001b[1;33m\u001b[0m\u001b[1;33m\u001b[0m\u001b[0m\n\u001b[0m\u001b[0;32m   1090\u001b[0m             \u001b[1;32mexcept\u001b[0m\u001b[1;33m:\u001b[0m\u001b[1;33m\u001b[0m\u001b[1;33m\u001b[0m\u001b[0m\n\u001b[0;32m   1091\u001b[0m                 \u001b[0merr\u001b[0m \u001b[1;33m=\u001b[0m \u001b[0msys\u001b[0m\u001b[1;33m.\u001b[0m\u001b[0mexc_info\u001b[0m\u001b[1;33m(\u001b[0m\u001b[1;33m)\u001b[0m\u001b[1;33m[\u001b[0m\u001b[1;36m1\u001b[0m\u001b[1;33m]\u001b[0m\u001b[1;33m\u001b[0m\u001b[1;33m\u001b[0m\u001b[0m\n",
      "\u001b[1;32m~\\anaconda3\\envs\\momm\\lib\\site-packages\\pyomo\\core\\base\\objective.py\u001b[0m in \u001b[0;36mconstruct\u001b[1;34m(self, data)\u001b[0m\n\u001b[0;32m    355\u001b[0m             \u001b[1;32melse\u001b[0m\u001b[1;33m:\u001b[0m\u001b[1;33m\u001b[0m\u001b[1;33m\u001b[0m\u001b[0m\n\u001b[0;32m    356\u001b[0m                 \u001b[1;32mtry\u001b[0m\u001b[1;33m:\u001b[0m\u001b[1;33m\u001b[0m\u001b[1;33m\u001b[0m\u001b[0m\n\u001b[1;32m--> 357\u001b[1;33m                     \u001b[0mtmp\u001b[0m \u001b[1;33m=\u001b[0m \u001b[0m_init_rule\u001b[0m\u001b[1;33m(\u001b[0m\u001b[0m_self_parent\u001b[0m\u001b[1;33m)\u001b[0m\u001b[1;33m\u001b[0m\u001b[1;33m\u001b[0m\u001b[0m\n\u001b[0m\u001b[0;32m    358\u001b[0m                 \u001b[1;32mexcept\u001b[0m \u001b[0mException\u001b[0m\u001b[1;33m:\u001b[0m\u001b[1;33m\u001b[0m\u001b[1;33m\u001b[0m\u001b[0m\n\u001b[0;32m    359\u001b[0m                     \u001b[0merr\u001b[0m \u001b[1;33m=\u001b[0m \u001b[0msys\u001b[0m\u001b[1;33m.\u001b[0m\u001b[0mexc_info\u001b[0m\u001b[1;33m(\u001b[0m\u001b[1;33m)\u001b[0m\u001b[1;33m[\u001b[0m\u001b[1;36m1\u001b[0m\u001b[1;33m]\u001b[0m\u001b[1;33m\u001b[0m\u001b[1;33m\u001b[0m\u001b[0m\n",
      "\u001b[1;32m<ipython-input-85-5105bad3b317>\u001b[0m in \u001b[0;36mobjective_rule\u001b[1;34m(model)\u001b[0m\n\u001b[0;32m      2\u001b[0m \u001b[1;33m\u001b[0m\u001b[0m\n\u001b[0;32m      3\u001b[0m \u001b[1;32mdef\u001b[0m \u001b[0mobjective_rule\u001b[0m\u001b[1;33m(\u001b[0m\u001b[0mmodel\u001b[0m\u001b[1;33m)\u001b[0m\u001b[1;33m:\u001b[0m\u001b[1;33m\u001b[0m\u001b[1;33m\u001b[0m\u001b[0m\n\u001b[1;32m----> 4\u001b[1;33m     \u001b[1;32mreturn\u001b[0m \u001b[0msum\u001b[0m\u001b[1;33m(\u001b[0m\u001b[0mmodel\u001b[0m\u001b[1;33m.\u001b[0m\u001b[0mprod\u001b[0m\u001b[1;33m[\u001b[0m\u001b[0mnode\u001b[0m\u001b[1;33m,\u001b[0m \u001b[0mtech\u001b[0m\u001b[1;33m,\u001b[0m \u001b[0mt\u001b[0m\u001b[1;33m]\u001b[0m \u001b[1;33m*\u001b[0m \u001b[1;33m(\u001b[0m\u001b[0mcost_data\u001b[0m\u001b[1;33m.\u001b[0m\u001b[0mloc\u001b[0m\u001b[1;33m[\u001b[0m\u001b[0mtech\u001b[0m\u001b[1;33m]\u001b[0m\u001b[1;33m[\u001b[0m\u001b[1;34m\"variable_cost\"\u001b[0m\u001b[1;33m]\u001b[0m \u001b[1;33m+\u001b[0m \u001b[0mcost_data\u001b[0m\u001b[1;33m.\u001b[0m\u001b[0mloc\u001b[0m\u001b[1;33m[\u001b[0m\u001b[0mtech\u001b[0m\u001b[1;33m]\u001b[0m\u001b[1;33m[\u001b[0m\u001b[1;34m\"fuel_cost\"\u001b[0m\u001b[1;33m]\u001b[0m\u001b[1;33m)\u001b[0m \u001b[1;32mfor\u001b[0m \u001b[0mnode\u001b[0m \u001b[1;32min\u001b[0m \u001b[0mmodel\u001b[0m\u001b[1;33m.\u001b[0m\u001b[0mnodes\u001b[0m \u001b[1;32mfor\u001b[0m \u001b[0mtech\u001b[0m \u001b[1;32min\u001b[0m \u001b[0mmodel\u001b[0m\u001b[1;33m.\u001b[0m\u001b[0mgens\u001b[0m \u001b[1;32mfor\u001b[0m \u001b[0mt\u001b[0m \u001b[1;32min\u001b[0m \u001b[0mmodel\u001b[0m\u001b[1;33m.\u001b[0m\u001b[0mtime\u001b[0m\u001b[1;33m)\u001b[0m \u001b[1;33m+\u001b[0m \u001b[0minvestment_cost\u001b[0m\u001b[1;33m(\u001b[0m\u001b[0mmodel\u001b[0m\u001b[1;33m)\u001b[0m\u001b[1;33m\u001b[0m\u001b[1;33m\u001b[0m\u001b[0m\n\u001b[0m\u001b[0;32m      5\u001b[0m \u001b[1;33m\u001b[0m\u001b[0m\n\u001b[0;32m      6\u001b[0m \u001b[1;31m# def objective_rule(model):\u001b[0m\u001b[1;33m\u001b[0m\u001b[1;33m\u001b[0m\u001b[1;33m\u001b[0m\u001b[0m\n",
      "\u001b[1;32m<ipython-input-80-c938da4b8571>\u001b[0m in \u001b[0;36minvestment_cost\u001b[1;34m(model)\u001b[0m\n\u001b[0;32m      9\u001b[0m     \u001b[1;31m#     * annualize_cost(tech) for tech in model.gens for node in model.nodes)\u001b[0m\u001b[1;33m\u001b[0m\u001b[1;33m\u001b[0m\u001b[1;33m\u001b[0m\u001b[0m\n\u001b[0;32m     10\u001b[0m \u001b[1;33m\u001b[0m\u001b[0m\n\u001b[1;32m---> 11\u001b[1;33m     \u001b[1;32mreturn\u001b[0m \u001b[0msum\u001b[0m\u001b[1;33m(\u001b[0m\u001b[0mmax\u001b[0m\u001b[1;33m(\u001b[0m\u001b[1;33m[\u001b[0m\u001b[0mmodel\u001b[0m\u001b[1;33m.\u001b[0m\u001b[0mprod\u001b[0m\u001b[1;33m[\u001b[0m\u001b[0mnode\u001b[0m\u001b[1;33m,\u001b[0m \u001b[0mtech\u001b[0m\u001b[1;33m,\u001b[0m \u001b[0mt\u001b[0m\u001b[1;33m]\u001b[0m \u001b[1;32mfor\u001b[0m \u001b[0mt\u001b[0m \u001b[1;32min\u001b[0m \u001b[0mmodel\u001b[0m\u001b[1;33m.\u001b[0m\u001b[0mtime\u001b[0m\u001b[1;33m]\u001b[0m\u001b[1;33m)\u001b[0m\u001b[1;33m*\u001b[0m\u001b[0mcost_data\u001b[0m\u001b[1;33m.\u001b[0m\u001b[0mloc\u001b[0m\u001b[1;33m[\u001b[0m\u001b[0mtech\u001b[0m\u001b[1;33m]\u001b[0m\u001b[1;33m[\u001b[0m\u001b[1;34m\"investment_cost\"\u001b[0m\u001b[1;33m]\u001b[0m \u001b[1;33m*\u001b[0m \u001b[0mannualize_cost\u001b[0m\u001b[1;33m(\u001b[0m\u001b[0mtech\u001b[0m\u001b[1;33m)\u001b[0m \u001b[1;32mfor\u001b[0m \u001b[0mtech\u001b[0m \u001b[1;32min\u001b[0m \u001b[0mmodel\u001b[0m\u001b[1;33m.\u001b[0m\u001b[0mgens\u001b[0m \u001b[1;32mfor\u001b[0m \u001b[0mnode\u001b[0m \u001b[1;32min\u001b[0m \u001b[0mmodel\u001b[0m\u001b[1;33m.\u001b[0m\u001b[0mnodes\u001b[0m\u001b[1;33m)\u001b[0m\u001b[1;33m\u001b[0m\u001b[1;33m\u001b[0m\u001b[0m\n\u001b[0m\u001b[0;32m     12\u001b[0m \u001b[1;33m\u001b[0m\u001b[0m\n\u001b[0;32m     13\u001b[0m \u001b[1;33m\u001b[0m\u001b[0m\n",
      "\u001b[1;32m<ipython-input-80-c938da4b8571>\u001b[0m in \u001b[0;36m<genexpr>\u001b[1;34m(.0)\u001b[0m\n\u001b[0;32m      9\u001b[0m     \u001b[1;31m#     * annualize_cost(tech) for tech in model.gens for node in model.nodes)\u001b[0m\u001b[1;33m\u001b[0m\u001b[1;33m\u001b[0m\u001b[1;33m\u001b[0m\u001b[0m\n\u001b[0;32m     10\u001b[0m \u001b[1;33m\u001b[0m\u001b[0m\n\u001b[1;32m---> 11\u001b[1;33m     \u001b[1;32mreturn\u001b[0m \u001b[0msum\u001b[0m\u001b[1;33m(\u001b[0m\u001b[0mmax\u001b[0m\u001b[1;33m(\u001b[0m\u001b[1;33m[\u001b[0m\u001b[0mmodel\u001b[0m\u001b[1;33m.\u001b[0m\u001b[0mprod\u001b[0m\u001b[1;33m[\u001b[0m\u001b[0mnode\u001b[0m\u001b[1;33m,\u001b[0m \u001b[0mtech\u001b[0m\u001b[1;33m,\u001b[0m \u001b[0mt\u001b[0m\u001b[1;33m]\u001b[0m \u001b[1;32mfor\u001b[0m \u001b[0mt\u001b[0m \u001b[1;32min\u001b[0m \u001b[0mmodel\u001b[0m\u001b[1;33m.\u001b[0m\u001b[0mtime\u001b[0m\u001b[1;33m]\u001b[0m\u001b[1;33m)\u001b[0m\u001b[1;33m*\u001b[0m\u001b[0mcost_data\u001b[0m\u001b[1;33m.\u001b[0m\u001b[0mloc\u001b[0m\u001b[1;33m[\u001b[0m\u001b[0mtech\u001b[0m\u001b[1;33m]\u001b[0m\u001b[1;33m[\u001b[0m\u001b[1;34m\"investment_cost\"\u001b[0m\u001b[1;33m]\u001b[0m \u001b[1;33m*\u001b[0m \u001b[0mannualize_cost\u001b[0m\u001b[1;33m(\u001b[0m\u001b[0mtech\u001b[0m\u001b[1;33m)\u001b[0m \u001b[1;32mfor\u001b[0m \u001b[0mtech\u001b[0m \u001b[1;32min\u001b[0m \u001b[0mmodel\u001b[0m\u001b[1;33m.\u001b[0m\u001b[0mgens\u001b[0m \u001b[1;32mfor\u001b[0m \u001b[0mnode\u001b[0m \u001b[1;32min\u001b[0m \u001b[0mmodel\u001b[0m\u001b[1;33m.\u001b[0m\u001b[0mnodes\u001b[0m\u001b[1;33m)\u001b[0m\u001b[1;33m\u001b[0m\u001b[1;33m\u001b[0m\u001b[0m\n\u001b[0m\u001b[0;32m     12\u001b[0m \u001b[1;33m\u001b[0m\u001b[0m\n\u001b[0;32m     13\u001b[0m \u001b[1;33m\u001b[0m\u001b[0m\n",
      "\u001b[1;32mpyomo\\core\\expr\\logical_expr.pyx\u001b[0m in \u001b[0;36mpyomo.core.expr.logical_expr.RangedExpression.__nonzero__\u001b[1;34m()\u001b[0m\n",
      "\u001b[1;32mpyomo\\core\\expr\\numeric_expr.pyx\u001b[0m in \u001b[0;36mpyomo.core.expr.numeric_expr.ExpressionBase.__call__\u001b[1;34m()\u001b[0m\n",
      "\u001b[1;32m~\\anaconda3\\envs\\momm\\lib\\site-packages\\pyomo\\core\\expr\\visitor.py\u001b[0m in \u001b[0;36mevaluate_expression\u001b[1;34m(exp, exception, constant)\u001b[0m\n\u001b[0;32m   1052\u001b[0m         \u001b[0mvisitor\u001b[0m \u001b[1;33m=\u001b[0m \u001b[0m_EvaluationVisitor\u001b[0m\u001b[1;33m(\u001b[0m\u001b[1;33m)\u001b[0m\u001b[1;33m\u001b[0m\u001b[1;33m\u001b[0m\u001b[0m\n\u001b[0;32m   1053\u001b[0m     \u001b[1;32mtry\u001b[0m\u001b[1;33m:\u001b[0m\u001b[1;33m\u001b[0m\u001b[1;33m\u001b[0m\u001b[0m\n\u001b[1;32m-> 1054\u001b[1;33m         \u001b[1;32mreturn\u001b[0m \u001b[0mvisitor\u001b[0m\u001b[1;33m.\u001b[0m\u001b[0mdfs_postorder_stack\u001b[0m\u001b[1;33m(\u001b[0m\u001b[0mexp\u001b[0m\u001b[1;33m)\u001b[0m\u001b[1;33m\u001b[0m\u001b[1;33m\u001b[0m\u001b[0m\n\u001b[0m\u001b[0;32m   1055\u001b[0m \u001b[1;33m\u001b[0m\u001b[0m\n\u001b[0;32m   1056\u001b[0m     except ( TemplateExpressionError, ValueError, TypeError,\n",
      "\u001b[1;32m~\\anaconda3\\envs\\momm\\lib\\site-packages\\pyomo\\core\\expr\\visitor.py\u001b[0m in \u001b[0;36mdfs_postorder_stack\u001b[1;34m(self, node)\u001b[0m\n\u001b[0;32m    582\u001b[0m                 \u001b[0m_sub\u001b[0m \u001b[1;33m=\u001b[0m \u001b[0m_argList\u001b[0m\u001b[1;33m[\u001b[0m\u001b[0m_idx\u001b[0m\u001b[1;33m]\u001b[0m\u001b[1;33m\u001b[0m\u001b[1;33m\u001b[0m\u001b[0m\n\u001b[0;32m    583\u001b[0m                 \u001b[0m_idx\u001b[0m \u001b[1;33m+=\u001b[0m \u001b[1;36m1\u001b[0m\u001b[1;33m\u001b[0m\u001b[1;33m\u001b[0m\u001b[0m\n\u001b[1;32m--> 584\u001b[1;33m                 \u001b[0mflag\u001b[0m\u001b[1;33m,\u001b[0m \u001b[0mvalue\u001b[0m \u001b[1;33m=\u001b[0m \u001b[0mself\u001b[0m\u001b[1;33m.\u001b[0m\u001b[0mvisiting_potential_leaf\u001b[0m\u001b[1;33m(\u001b[0m\u001b[0m_sub\u001b[0m\u001b[1;33m)\u001b[0m\u001b[1;33m\u001b[0m\u001b[1;33m\u001b[0m\u001b[0m\n\u001b[0m\u001b[0;32m    585\u001b[0m                 \u001b[1;32mif\u001b[0m \u001b[0mflag\u001b[0m\u001b[1;33m:\u001b[0m\u001b[1;33m\u001b[0m\u001b[1;33m\u001b[0m\u001b[0m\n\u001b[0;32m    586\u001b[0m                     \u001b[0m_result\u001b[0m\u001b[1;33m.\u001b[0m\u001b[0mappend\u001b[0m\u001b[1;33m(\u001b[0m \u001b[0mvalue\u001b[0m \u001b[1;33m)\u001b[0m\u001b[1;33m\u001b[0m\u001b[1;33m\u001b[0m\u001b[0m\n",
      "\u001b[1;32m~\\anaconda3\\envs\\momm\\lib\\site-packages\\pyomo\\core\\expr\\visitor.py\u001b[0m in \u001b[0;36mvisiting_potential_leaf\u001b[1;34m(self, node)\u001b[0m\n\u001b[0;32m    960\u001b[0m \u001b[1;33m\u001b[0m\u001b[0m\n\u001b[0;32m    961\u001b[0m         \u001b[1;32mif\u001b[0m \u001b[0mnode\u001b[0m\u001b[1;33m.\u001b[0m\u001b[0mis_numeric_type\u001b[0m\u001b[1;33m(\u001b[0m\u001b[1;33m)\u001b[0m\u001b[1;33m:\u001b[0m\u001b[1;33m\u001b[0m\u001b[1;33m\u001b[0m\u001b[0m\n\u001b[1;32m--> 962\u001b[1;33m             \u001b[1;32mreturn\u001b[0m \u001b[1;32mTrue\u001b[0m\u001b[1;33m,\u001b[0m \u001b[0mvalue\u001b[0m\u001b[1;33m(\u001b[0m\u001b[0mnode\u001b[0m\u001b[1;33m)\u001b[0m\u001b[1;33m\u001b[0m\u001b[1;33m\u001b[0m\u001b[0m\n\u001b[0m\u001b[0;32m    963\u001b[0m         \u001b[1;32melif\u001b[0m \u001b[0mnode\u001b[0m\u001b[1;33m.\u001b[0m\u001b[0mis_logical_type\u001b[0m\u001b[1;33m(\u001b[0m\u001b[1;33m)\u001b[0m\u001b[1;33m:\u001b[0m\u001b[1;33m\u001b[0m\u001b[1;33m\u001b[0m\u001b[0m\n\u001b[0;32m    964\u001b[0m             \u001b[1;32mreturn\u001b[0m \u001b[1;32mTrue\u001b[0m\u001b[1;33m,\u001b[0m \u001b[0mvalue\u001b[0m\u001b[1;33m(\u001b[0m\u001b[0mnode\u001b[0m\u001b[1;33m)\u001b[0m\u001b[1;33m\u001b[0m\u001b[1;33m\u001b[0m\u001b[0m\n",
      "\u001b[1;32mpyomo\\core\\expr\\numvalue.pyx\u001b[0m in \u001b[0;36mpyomo.core.expr.numvalue.value\u001b[1;34m()\u001b[0m\n",
      "\u001b[1;32mpyomo\\core\\expr\\numvalue.pyx\u001b[0m in \u001b[0;36mpyomo.core.expr.numvalue.value\u001b[1;34m()\u001b[0m\n",
      "\u001b[1;31mValueError\u001b[0m: No value for uninitialized NumericValue object prod[DE,Wind,0]"
     ]
    }
   ],
   "source": [
    "print(\"========================= SET OBJECTIVE FUNCTION =========================\")\n",
    "\n",
    "def objective_rule(model):\n",
    "    return sum(model.prod[node, tech, t] * (cost_data.loc[tech][\"variable_cost\"] + cost_data.loc[tech][\"fuel_cost\"]) for node in model.nodes for tech in model.gens for t in model.time) + investment_cost(model)\n",
    "\n",
    "# def objective_rule(model):\n",
    "#     return sum(model.prod[node, tech, t] * (cost_data.loc[tech][\"variable_cost\"] + cost_data.loc[tech][\"fuel_cost\"] + cost_data.loc[tech][\"investment_cost\"] * annualize_cost(tech) ) for node in model.nodes for tech in model.gens for t in model.time) \n",
    "\n",
    "\n",
    "model.objective = Objective(\n",
    "    rule=objective_rule, sense=minimize, doc='Objective function')"
   ]
  },
  {
   "cell_type": "code",
   "execution_count": 54,
   "metadata": {},
   "outputs": [
    {
     "output_type": "stream",
     "name": "stdout",
     "text": [
      "========================= SOLVING MODEL =========================\n",
      "# ==========================================================\n",
      "# = Solver Results                                         =\n",
      "# ==========================================================\n",
      "# ----------------------------------------------------------\n",
      "#   Problem Information\n",
      "# ----------------------------------------------------------\n",
      "Problem: \n",
      "- Name: unknown_copy\n",
      "  Lower bound: 64780056648335.36\n",
      "  Upper bound: 64780056648335.36\n",
      "  Number of objectives: 1\n",
      "  Number of constraints: 262800\n",
      "  Number of variables: 140175\n",
      "  Number of binary variables: 0\n",
      "  Number of integer variables: 0\n",
      "  Number of continuous variables: 140175\n",
      "  Number of nonzeros: 855640\n",
      "  Sense: 1\n",
      "  Number of solutions: 1\n",
      "# ----------------------------------------------------------\n",
      "#   Solver Information\n",
      "# ----------------------------------------------------------\n",
      "Solver: \n",
      "- Name: Gurobi 9.11\n",
      "  Status: ok\n",
      "  Wallclock time: 0.39863014221191406\n",
      "  Termination condition: optimal\n",
      "  Termination message: Model was solved to optimality (subject to tolerances), and an optimal solution is available.\n",
      "# ----------------------------------------------------------\n",
      "#   Solution Information\n",
      "# ----------------------------------------------------------\n",
      "Solution: \n",
      "- number of solutions: 0\n",
      "  number of solutions displayed: 0\n"
     ]
    }
   ],
   "source": [
    "from pyomo.opt import SolverFactory\n",
    "import pyomo.environ\n",
    "import pandas as pd\n",
    "\n",
    "opt = SolverFactory(\"gurobi_direct\")\n",
    "opt.options[\"threads\"] = 4\n",
    "print(\"========================= SOLVING MODEL =========================\")\n",
    "\n",
    "results = opt.solve(model, tee=True)\n",
    "\n",
    "results.write()"
   ]
  },
  {
   "cell_type": "code",
   "execution_count": 55,
   "metadata": {},
   "outputs": [
    {
     "output_type": "stream",
     "name": "stdout",
     "text": [
      "{('DE', 'Battery'): 0.0,\n ('DE', 'Gas'): 558925.1148000011,\n ('DE', 'Hydro'): 0.0,\n ('DE', 'PV'): 69354.0432,\n ('DE', 'Wind'): 9337.907799999997,\n ('DK', 'Battery'): 0.0,\n ('DK', 'Gas'): 39149.52411499992,\n ('DK', 'Hydro'): 0.0,\n ('DK', 'PV'): 3621.781241000001,\n ('DK', 'Wind'): 835.1125769999994,\n ('SE', 'Battery'): 0.0,\n ('SE', 'Gas'): 50841.09110000008,\n ('SE', 'Hydro'): 122197.69239999996,\n ('SE', 'PV'): 1839.646400000002,\n ('SE', 'Wind'): 2453.912299999998}\nTotal cost: 64780056.64833544\n"
     ]
    }
   ],
   "source": [
    "import pprint\n",
    "\n",
    "# Reading output - example\n",
    "capTot = {}\n",
    "for node in model.nodes:\n",
    "    for tech in model.gens:\n",
    "        for t in model.time:\n",
    "            if not (node, tech) in capTot:\n",
    "                capTot[node, tech] = model.prod[node, tech, t].value * get_load_factor(tech,t,node) * model.efficiency[tech] /1e3  # GW\n",
    "            else:\n",
    "                capTot[node, tech] += model.prod[node, tech, t].value * get_load_factor(tech,t,node) * model.efficiency[tech] /1e3\n",
    "\n",
    "costTot = value(model.objective) / 1e6  # Million EUR\n",
    "pprint.pprint(capTot)\n",
    "print(f\"Total cost: {costTot}\")"
   ]
  },
  {
   "source": [
    "With hydro rules\n",
    "{('DE', 'Battery'): 0.0,\n",
    " ('DE', 'Gas'): 558925.1148000011,\n",
    " ('DE', 'Hydro'): 0.0,\n",
    " ('DE', 'PV'): 69354.0432,\n",
    " ('DE', 'Wind'): 9337.907799999997,\n",
    " ('DK', 'Battery'): 0.0,\n",
    " ('DK', 'Gas'): 39149.52411499992,\n",
    " ('DK', 'Hydro'): 0.0,\n",
    " ('DK', 'PV'): 3621.781241000001,\n",
    " ('DK', 'Wind'): 835.1125769999994,\n",
    " ('SE', 'Battery'): 0.0,\n",
    " ('SE', 'Gas'): 99095.99566000047,\n",
    " ('SE', 'Hydro'): 65001.188239999225,\n",
    " ('SE', 'PV'): 7019.6464000000005,\n",
    " ('SE', 'Wind'): 6215.511900000002}\n",
    "Total cost: 69836710.0270978"
   ],
   "cell_type": "markdown",
   "metadata": {}
  }
 ]
}