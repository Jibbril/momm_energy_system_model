{
 "metadata": {
  "language_info": {
   "codemirror_mode": {
    "name": "ipython",
    "version": 3
   },
   "file_extension": ".py",
   "mimetype": "text/x-python",
   "name": "python",
   "nbconvert_exporter": "python",
   "pygments_lexer": "ipython3",
   "version": "3.8.8"
  },
  "orig_nbformat": 2,
  "kernelspec": {
   "name": "python388jvsc74a57bd0634fb6b6e8aee2a8af9b77aa6665e0187af9fc16f3b72fb139e7e66cb38d65e6",
   "display_name": "Python 3.8.8 64-bit ('momm': conda)"
  }
 },
 "nbformat": 4,
 "nbformat_minor": 2,
 "cells": [
  {
   "cell_type": "code",
   "execution_count": 46,
   "metadata": {},
   "outputs": [],
   "source": [
    "from pyomo.environ import *\n",
    "import pandas as pd\n",
    "import matplotlib.pyplot as plt"
   ]
  },
  {
   "cell_type": "code",
   "execution_count": 47,
   "metadata": {},
   "outputs": [
    {
     "output_type": "stream",
     "name": "stdout",
     "text": [
      "========================= START LOADING DATA =========================\n========================= DATA LOADED ===    ======================\nTotal demand DK: 43606.417933\nTotal demand DE: 637617.0658\nTotal demand SE: 177332.34219999998\n"
     ]
    }
   ],
   "source": [
    "# CONTROL VARIABLES\n",
    "batteryOn = False\n",
    "\n",
    "\n",
    "# DATA\n",
    "countries = ['DE', 'DK', 'SE']\n",
    "techs = ['Wind', 'PV', 'Gas', 'Hydro', 'Battery']\n",
    "efficiency = {'Wind': 1, 'PV': 1, 'Gas': 0.4, 'Hydro': 1, 'Battery': 0.9}\n",
    "discountrate = 0.05\n",
    "hydro_max =33 * 10**6\n",
    "percent_hydro_at_start = 0.5\n",
    "\n",
    "# READ CSV\n",
    "print(\"========================= START LOADING DATA =========================\")\n",
    "input_data = pd.read_csv('data/TimeSeries.csv', index_col=[0])\n",
    "cap_max_data = pd.read_csv('data/capMax.csv', index_col=[0])  # MWh\n",
    "cost_data = pd.read_csv('data/costs.csv', index_col=[0])\n",
    "print(\"========================= DATA LOADED ===    ======================\")\n",
    "\n",
    "print(f\"Total demand DK: {input_data['Load_DK'].sum()/1000}\")\n",
    "print(f\"Total demand DE: {input_data['Load_DE'].sum()/1000}\")\n",
    "print(f\"Total demand SE: {input_data['Load_SE'].sum()/1000}\")\n"
   ]
  },
  {
   "cell_type": "code",
   "execution_count": 48,
   "metadata": {},
   "outputs": [],
   "source": [
    "# UTILITY FUNCTIONS\n",
    "def annualize_cost(tech):\n",
    "    lifetime = cost_data.loc[tech][\"lifetime\"]\n",
    "    return discountrate/(1-1/(1+discountrate)**lifetime)\n",
    "\n",
    "\n",
    "def investment_cost(model):\n",
    "    sum(max([model.prod[node, tech, t] for t in model.time])*cost_data.loc[tech][investment_cost]\n",
    "        * annualize_cost(tech) for tech in model.gens for node in model.nodes)\n",
    "\n",
    "\n",
    "def capacity_max(model, n, g):\n",
    "    capMax = {}\n",
    "    if g in cap_max_data.columns:\n",
    "        capMax[n, g] = float(cap_max_data[g].loc[cap_max_data.index == n])\n",
    "        return 0.0, capMax[n, g]\n",
    "    elif g == 'Battery' and not batteryOn:\n",
    "        return 0.0, 0.0\n",
    "    else:\n",
    "        return 0.0, None\n",
    "\n",
    "\n",
    "def demandData():\n",
    "    demand = {}\n",
    "    for n in model.nodes:\n",
    "        for t in model.time:\n",
    "            demand[n, t] = input_data.iloc[t][f\"Load_{n}\"]\n",
    "    return demand\n",
    "\n",
    "def get_load_factor(tech, time, node):\n",
    "    \"\"\"\n",
    "    Checks performance of Wind and solar at the provided\n",
    "    node and time\n",
    "    \"\"\"\n",
    "    if tech != \"Wind\" and tech != \"PV\":\n",
    "        return 1\n",
    "    text = f\"{tech}_{node}\"\n",
    "    return input_data.iloc[time][text]\n"
   ]
  },
  {
   "cell_type": "code",
   "execution_count": 49,
   "metadata": {},
   "outputs": [
    {
     "output_type": "stream",
     "name": "stdout",
     "text": [
      "========================= CREATE MODEL =========================\n========================= CREATE SETS =========================\n"
     ]
    }
   ],
   "source": [
    "print(\"========================= CREATE MODEL =========================\")\n",
    "model = ConcreteModel()\n",
    "\n",
    "print(\"========================= CREATE SETS =========================\")\n",
    "# SETS\n",
    "model.nodes = Set(initialize=countries, doc='countries')\n",
    "model.time = Set(initialize=input_data.index, doc='hours')\n",
    "model.gens = Set(initialize=techs, doc=\"Technologies\")\n",
    "# model.load_swe = Set(initialize=input_data.)\n"
   ]
  },
  {
   "cell_type": "code",
   "execution_count": 50,
   "metadata": {},
   "outputs": [
    {
     "output_type": "stream",
     "name": "stdout",
     "text": [
      "========================= SET PARAMETERS =========================\n"
     ]
    }
   ],
   "source": [
    "print(\"========================= SET PARAMETERS =========================\")\n",
    "# PARAMETERS\n",
    "model.demand = Param(model.nodes, model.time, initialize=demandData())\n",
    "model.efficiency = Param(\n",
    "    model.gens, initialize=efficiency, doc='Conversion efficiency')"
   ]
  },
  {
   "cell_type": "code",
   "execution_count": 51,
   "metadata": {},
   "outputs": [
    {
     "output_type": "stream",
     "name": "stdout",
     "text": [
      "========================= CREATE VARIABLES =========================\n"
     ]
    }
   ],
   "source": [
    "print(\"========================= CREATE VARIABLES =========================\")\n",
    "# VARIABLES\n",
    "model.prod = Var(model.nodes, model.gens, model.time,\n",
    "                 domain=NonNegativeReals,\n",
    "                 doc=\"Production\")\n",
    "model.capa = Var(model.nodes, model.gens,\n",
    "                 bounds=capacity_max, doc='Generator cap')\n",
    "model.water_level = Var(model.time, bounds=(0, hydro_max), doc=\"Water level of reservoir\")"
   ]
  },
  {
   "cell_type": "code",
   "execution_count": 52,
   "metadata": {
    "tags": []
   },
   "outputs": [
    {
     "output_type": "stream",
     "name": "stdout",
     "text": [
      "========================= SET CONSTRAINTS =========================\n"
     ]
    }
   ],
   "source": [
    "print(\"========================= SET CONSTRAINTS =========================\")\n",
    "# CONSTRAINTS\n",
    "def production_capacity_rule(model, nodes, gens, time):\n",
    "    return model.prod[nodes, gens, time] <= model.capa[nodes, gens]\n",
    "\n",
    "\n",
    "model.production_constraint = Constraint(model.nodes, model.gens,\n",
    "                                         model.time, rule=production_capacity_rule)\n",
    "\n",
    "\n",
    "def demand_rule(model, nodes, gens, time):\n",
    "    return sum([model.prod[nodes, tech, time] * get_load_factor(tech,time,nodes) * model.efficiency[tech] for tech in techs]) >= model.demand[nodes, time]\n",
    "\n",
    "model.demand_constraint = Constraint(model.nodes, model.gens,\n",
    "                                     model.time, rule=demand_rule)\n",
    "\n",
    "# Inflow constraint\n",
    "\n",
    "\n",
    "# Water level same at start and end constraint\n",
    "\n",
    "def hydro_rule(model,time):\n",
    "    if (time > 0):\n",
    "        return model.water_level[time] == model.water_level[time - 1] - model.prod[\"SE\", \"Hydro\", time] + input_data.iloc[time][\"Hydro_inflow\"]\n",
    "    else:\n",
    "        return model.water_level[time] == model.water_level[time] \n",
    "\n",
    "# model.water_start_constraint = Constraint(expr=model.water_level[0] == percent_hydro_at_start*hydro_max)\n",
    "# model.water_end_constraint = Constraint(expr=model.water_level[8759] >= model.water_level[0])\n",
    "\n",
    "# model.hydro_constraint = Constraint(model.time, rule=hydro_rule)\n",
    "\n",
    "\n"
   ]
  },
  {
   "cell_type": "code",
   "execution_count": 53,
   "metadata": {},
   "outputs": [
    {
     "output_type": "stream",
     "name": "stdout",
     "text": [
      "========================= SET OBJECTIVE FUNCTION =========================\n"
     ]
    }
   ],
   "source": [
    "print(\"========================= SET OBJECTIVE FUNCTION =========================\")\n",
    "\n",
    "# def objective_rule(model):\n",
    "#     return sum(model.prod[node, tech, t] * (cost_data.loc[tech][\"variable_cost\"] + cost_data.loc[tech][\"fuel_cost\"]) + investment_cost(model) for node in model.nodes for tech in model.gens for t in model.time) \n",
    "\n",
    "def objective_rule(model):\n",
    "    return sum(model.prod[node, tech, t] * (cost_data.loc[tech][\"variable_cost\"] + cost_data.loc[tech][\"fuel_cost\"] + cost_data.loc[tech][\"investment_cost\"] * annualize_cost(tech) ) for node in model.nodes for tech in model.gens for t in model.time) \n",
    "\n",
    "\n",
    "model.objective = Objective(\n",
    "    rule=objective_rule, sense=minimize, doc='Objective function')"
   ]
  },
  {
   "cell_type": "code",
   "execution_count": 54,
   "metadata": {},
   "outputs": [
    {
     "output_type": "stream",
     "name": "stdout",
     "text": [
      "========================= SOLVING MODEL =========================\n",
      "# ==========================================================\n",
      "# = Solver Results                                         =\n",
      "# ==========================================================\n",
      "# ----------------------------------------------------------\n",
      "#   Problem Information\n",
      "# ----------------------------------------------------------\n",
      "Problem: \n",
      "- Name: unknown_copy\n",
      "  Lower bound: 64780056648335.36\n",
      "  Upper bound: 64780056648335.36\n",
      "  Number of objectives: 1\n",
      "  Number of constraints: 262800\n",
      "  Number of variables: 140175\n",
      "  Number of binary variables: 0\n",
      "  Number of integer variables: 0\n",
      "  Number of continuous variables: 140175\n",
      "  Number of nonzeros: 855640\n",
      "  Sense: 1\n",
      "  Number of solutions: 1\n",
      "# ----------------------------------------------------------\n",
      "#   Solver Information\n",
      "# ----------------------------------------------------------\n",
      "Solver: \n",
      "- Name: Gurobi 9.11\n",
      "  Status: ok\n",
      "  Wallclock time: 0.39863014221191406\n",
      "  Termination condition: optimal\n",
      "  Termination message: Model was solved to optimality (subject to tolerances), and an optimal solution is available.\n",
      "# ----------------------------------------------------------\n",
      "#   Solution Information\n",
      "# ----------------------------------------------------------\n",
      "Solution: \n",
      "- number of solutions: 0\n",
      "  number of solutions displayed: 0\n"
     ]
    }
   ],
   "source": [
    "from pyomo.opt import SolverFactory\n",
    "import pyomo.environ\n",
    "import pandas as pd\n",
    "\n",
    "opt = SolverFactory(\"gurobi_direct\")\n",
    "opt.options[\"threads\"] = 4\n",
    "print(\"========================= SOLVING MODEL =========================\")\n",
    "\n",
    "results = opt.solve(model, tee=True)\n",
    "\n",
    "results.write()"
   ]
  },
  {
   "cell_type": "code",
   "execution_count": 55,
   "metadata": {},
   "outputs": [
    {
     "output_type": "stream",
     "name": "stdout",
     "text": [
      "{('DE', 'Battery'): 0.0,\n ('DE', 'Gas'): 558925.1148000011,\n ('DE', 'Hydro'): 0.0,\n ('DE', 'PV'): 69354.0432,\n ('DE', 'Wind'): 9337.907799999997,\n ('DK', 'Battery'): 0.0,\n ('DK', 'Gas'): 39149.52411499992,\n ('DK', 'Hydro'): 0.0,\n ('DK', 'PV'): 3621.781241000001,\n ('DK', 'Wind'): 835.1125769999994,\n ('SE', 'Battery'): 0.0,\n ('SE', 'Gas'): 50841.09110000008,\n ('SE', 'Hydro'): 122197.69239999996,\n ('SE', 'PV'): 1839.646400000002,\n ('SE', 'Wind'): 2453.912299999998}\nTotal cost: 64780056.64833544\n"
     ]
    }
   ],
   "source": [
    "import pprint\n",
    "\n",
    "# Reading output - example\n",
    "capTot = {}\n",
    "for node in model.nodes:\n",
    "    for tech in model.gens:\n",
    "        for t in model.time:\n",
    "            if not (node, tech) in capTot:\n",
    "                capTot[node, tech] = model.prod[node, tech, t].value * get_load_factor(tech,t,node) * model.efficiency[tech] /1e3  # GW\n",
    "            else:\n",
    "                capTot[node, tech] += model.prod[node, tech, t].value * get_load_factor(tech,t,node) * model.efficiency[tech] /1e3\n",
    "\n",
    "costTot = value(model.objective) / 1e6  # Million EUR\n",
    "pprint.pprint(capTot)\n",
    "print(f\"Total cost: {costTot}\")"
   ]
  },
  {
   "source": [
    "With hydro rules\n",
    "{('DE', 'Battery'): 0.0,\n",
    " ('DE', 'Gas'): 558925.1148000011,\n",
    " ('DE', 'Hydro'): 0.0,\n",
    " ('DE', 'PV'): 69354.0432,\n",
    " ('DE', 'Wind'): 9337.907799999997,\n",
    " ('DK', 'Battery'): 0.0,\n",
    " ('DK', 'Gas'): 39149.52411499992,\n",
    " ('DK', 'Hydro'): 0.0,\n",
    " ('DK', 'PV'): 3621.781241000001,\n",
    " ('DK', 'Wind'): 835.1125769999994,\n",
    " ('SE', 'Battery'): 0.0,\n",
    " ('SE', 'Gas'): 99095.99566000047,\n",
    " ('SE', 'Hydro'): 65001.188239999225,\n",
    " ('SE', 'PV'): 7019.6464000000005,\n",
    " ('SE', 'Wind'): 6215.511900000002}\n",
    "Total cost: 69836710.0270978"
   ],
   "cell_type": "markdown",
   "metadata": {}
  }
 ]
}